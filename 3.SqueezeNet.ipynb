{
  "nbformat": 4,
  "nbformat_minor": 0,
  "metadata": {
    "colab": {
      "name": "3.SqueezeNet.ipynb",
      "provenance": [],
      "collapsed_sections": [],
      "include_colab_link": true
    },
    "kernelspec": {
      "name": "python3",
      "display_name": "Python 3"
    },
    "language_info": {
      "name": "python"
    },
    "widgets": {
      "application/vnd.jupyter.widget-state+json": {
        "4009550fac8d4cafbd6acd64cd008897": {
          "model_module": "@jupyter-widgets/controls",
          "model_name": "HBoxModel",
          "state": {
            "_view_name": "HBoxView",
            "_dom_classes": [],
            "_model_name": "HBoxModel",
            "_view_module": "@jupyter-widgets/controls",
            "_model_module_version": "1.5.0",
            "_view_count": null,
            "_view_module_version": "1.5.0",
            "box_style": "",
            "layout": "IPY_MODEL_074cb8d2040d4cae85986311472214f2",
            "_model_module": "@jupyter-widgets/controls",
            "children": [
              "IPY_MODEL_cbe79b50ae83421cacce6ccef3012306",
              "IPY_MODEL_fb60e92b569648be8a501d849add039c"
            ]
          }
        },
        "074cb8d2040d4cae85986311472214f2": {
          "model_module": "@jupyter-widgets/base",
          "model_name": "LayoutModel",
          "state": {
            "_view_name": "LayoutView",
            "grid_template_rows": null,
            "right": null,
            "justify_content": null,
            "_view_module": "@jupyter-widgets/base",
            "overflow": null,
            "_model_module_version": "1.2.0",
            "_view_count": null,
            "flex_flow": null,
            "width": null,
            "min_width": null,
            "border": null,
            "align_items": null,
            "bottom": null,
            "_model_module": "@jupyter-widgets/base",
            "top": null,
            "grid_column": null,
            "overflow_y": null,
            "overflow_x": null,
            "grid_auto_flow": null,
            "grid_area": null,
            "grid_template_columns": null,
            "flex": null,
            "_model_name": "LayoutModel",
            "justify_items": null,
            "grid_row": null,
            "max_height": null,
            "align_content": null,
            "visibility": null,
            "align_self": null,
            "height": null,
            "min_height": null,
            "padding": null,
            "grid_auto_rows": null,
            "grid_gap": null,
            "max_width": null,
            "order": null,
            "_view_module_version": "1.2.0",
            "grid_template_areas": null,
            "object_position": null,
            "object_fit": null,
            "grid_auto_columns": null,
            "margin": null,
            "display": null,
            "left": null
          }
        },
        "cbe79b50ae83421cacce6ccef3012306": {
          "model_module": "@jupyter-widgets/controls",
          "model_name": "FloatProgressModel",
          "state": {
            "_view_name": "ProgressView",
            "style": "IPY_MODEL_b482f8432a134a189f0fa06bd63457f7",
            "_dom_classes": [],
            "description": "",
            "_model_name": "FloatProgressModel",
            "bar_style": "success",
            "max": 170498071,
            "_view_module": "@jupyter-widgets/controls",
            "_model_module_version": "1.5.0",
            "value": 170498071,
            "_view_count": null,
            "_view_module_version": "1.5.0",
            "orientation": "horizontal",
            "min": 0,
            "description_tooltip": null,
            "_model_module": "@jupyter-widgets/controls",
            "layout": "IPY_MODEL_eabec07ee4354a87b1daf0cb713fe764"
          }
        },
        "fb60e92b569648be8a501d849add039c": {
          "model_module": "@jupyter-widgets/controls",
          "model_name": "HTMLModel",
          "state": {
            "_view_name": "HTMLView",
            "style": "IPY_MODEL_b5e41f789c334a7bab16802413470aa5",
            "_dom_classes": [],
            "description": "",
            "_model_name": "HTMLModel",
            "placeholder": "​",
            "_view_module": "@jupyter-widgets/controls",
            "_model_module_version": "1.5.0",
            "value": " 170499072/? [04:46&lt;00:00, 594788.00it/s]",
            "_view_count": null,
            "_view_module_version": "1.5.0",
            "description_tooltip": null,
            "_model_module": "@jupyter-widgets/controls",
            "layout": "IPY_MODEL_0481e83aea0340349d0f498287055666"
          }
        },
        "b482f8432a134a189f0fa06bd63457f7": {
          "model_module": "@jupyter-widgets/controls",
          "model_name": "ProgressStyleModel",
          "state": {
            "_view_name": "StyleView",
            "_model_name": "ProgressStyleModel",
            "description_width": "initial",
            "_view_module": "@jupyter-widgets/base",
            "_model_module_version": "1.5.0",
            "_view_count": null,
            "_view_module_version": "1.2.0",
            "bar_color": null,
            "_model_module": "@jupyter-widgets/controls"
          }
        },
        "eabec07ee4354a87b1daf0cb713fe764": {
          "model_module": "@jupyter-widgets/base",
          "model_name": "LayoutModel",
          "state": {
            "_view_name": "LayoutView",
            "grid_template_rows": null,
            "right": null,
            "justify_content": null,
            "_view_module": "@jupyter-widgets/base",
            "overflow": null,
            "_model_module_version": "1.2.0",
            "_view_count": null,
            "flex_flow": null,
            "width": null,
            "min_width": null,
            "border": null,
            "align_items": null,
            "bottom": null,
            "_model_module": "@jupyter-widgets/base",
            "top": null,
            "grid_column": null,
            "overflow_y": null,
            "overflow_x": null,
            "grid_auto_flow": null,
            "grid_area": null,
            "grid_template_columns": null,
            "flex": null,
            "_model_name": "LayoutModel",
            "justify_items": null,
            "grid_row": null,
            "max_height": null,
            "align_content": null,
            "visibility": null,
            "align_self": null,
            "height": null,
            "min_height": null,
            "padding": null,
            "grid_auto_rows": null,
            "grid_gap": null,
            "max_width": null,
            "order": null,
            "_view_module_version": "1.2.0",
            "grid_template_areas": null,
            "object_position": null,
            "object_fit": null,
            "grid_auto_columns": null,
            "margin": null,
            "display": null,
            "left": null
          }
        },
        "b5e41f789c334a7bab16802413470aa5": {
          "model_module": "@jupyter-widgets/controls",
          "model_name": "DescriptionStyleModel",
          "state": {
            "_view_name": "StyleView",
            "_model_name": "DescriptionStyleModel",
            "description_width": "",
            "_view_module": "@jupyter-widgets/base",
            "_model_module_version": "1.5.0",
            "_view_count": null,
            "_view_module_version": "1.2.0",
            "_model_module": "@jupyter-widgets/controls"
          }
        },
        "0481e83aea0340349d0f498287055666": {
          "model_module": "@jupyter-widgets/base",
          "model_name": "LayoutModel",
          "state": {
            "_view_name": "LayoutView",
            "grid_template_rows": null,
            "right": null,
            "justify_content": null,
            "_view_module": "@jupyter-widgets/base",
            "overflow": null,
            "_model_module_version": "1.2.0",
            "_view_count": null,
            "flex_flow": null,
            "width": null,
            "min_width": null,
            "border": null,
            "align_items": null,
            "bottom": null,
            "_model_module": "@jupyter-widgets/base",
            "top": null,
            "grid_column": null,
            "overflow_y": null,
            "overflow_x": null,
            "grid_auto_flow": null,
            "grid_area": null,
            "grid_template_columns": null,
            "flex": null,
            "_model_name": "LayoutModel",
            "justify_items": null,
            "grid_row": null,
            "max_height": null,
            "align_content": null,
            "visibility": null,
            "align_self": null,
            "height": null,
            "min_height": null,
            "padding": null,
            "grid_auto_rows": null,
            "grid_gap": null,
            "max_width": null,
            "order": null,
            "_view_module_version": "1.2.0",
            "grid_template_areas": null,
            "object_position": null,
            "object_fit": null,
            "grid_auto_columns": null,
            "margin": null,
            "display": null,
            "left": null
          }
        },
        "c1790f042be6447184b4f2c6d2970b50": {
          "model_module": "@jupyter-widgets/controls",
          "model_name": "HBoxModel",
          "state": {
            "_view_name": "HBoxView",
            "_dom_classes": [],
            "_model_name": "HBoxModel",
            "_view_module": "@jupyter-widgets/controls",
            "_model_module_version": "1.5.0",
            "_view_count": null,
            "_view_module_version": "1.5.0",
            "box_style": "",
            "layout": "IPY_MODEL_9c15eebe9a314d95b4e9cdada87b636d",
            "_model_module": "@jupyter-widgets/controls",
            "children": [
              "IPY_MODEL_7439b9586248453a8cc5d9cbfc1d72e7",
              "IPY_MODEL_a8c5b55ee5ac4a859eaf45a1fc45f3a8"
            ]
          }
        },
        "9c15eebe9a314d95b4e9cdada87b636d": {
          "model_module": "@jupyter-widgets/base",
          "model_name": "LayoutModel",
          "state": {
            "_view_name": "LayoutView",
            "grid_template_rows": null,
            "right": null,
            "justify_content": null,
            "_view_module": "@jupyter-widgets/base",
            "overflow": null,
            "_model_module_version": "1.2.0",
            "_view_count": null,
            "flex_flow": null,
            "width": null,
            "min_width": null,
            "border": null,
            "align_items": null,
            "bottom": null,
            "_model_module": "@jupyter-widgets/base",
            "top": null,
            "grid_column": null,
            "overflow_y": null,
            "overflow_x": null,
            "grid_auto_flow": null,
            "grid_area": null,
            "grid_template_columns": null,
            "flex": null,
            "_model_name": "LayoutModel",
            "justify_items": null,
            "grid_row": null,
            "max_height": null,
            "align_content": null,
            "visibility": null,
            "align_self": null,
            "height": null,
            "min_height": null,
            "padding": null,
            "grid_auto_rows": null,
            "grid_gap": null,
            "max_width": null,
            "order": null,
            "_view_module_version": "1.2.0",
            "grid_template_areas": null,
            "object_position": null,
            "object_fit": null,
            "grid_auto_columns": null,
            "margin": null,
            "display": null,
            "left": null
          }
        },
        "7439b9586248453a8cc5d9cbfc1d72e7": {
          "model_module": "@jupyter-widgets/controls",
          "model_name": "FloatProgressModel",
          "state": {
            "_view_name": "ProgressView",
            "style": "IPY_MODEL_4a1efd251c2049f4a9e22464343263c9",
            "_dom_classes": [],
            "description": "100%",
            "_model_name": "FloatProgressModel",
            "bar_style": "success",
            "max": 5017600,
            "_view_module": "@jupyter-widgets/controls",
            "_model_module_version": "1.5.0",
            "value": 5017600,
            "_view_count": null,
            "_view_module_version": "1.5.0",
            "orientation": "horizontal",
            "min": 0,
            "description_tooltip": null,
            "_model_module": "@jupyter-widgets/controls",
            "layout": "IPY_MODEL_7923b6aef9504d5dbed7e6a9474a4f8e"
          }
        },
        "a8c5b55ee5ac4a859eaf45a1fc45f3a8": {
          "model_module": "@jupyter-widgets/controls",
          "model_name": "HTMLModel",
          "state": {
            "_view_name": "HTMLView",
            "style": "IPY_MODEL_2d459c300214404686459a6429488567",
            "_dom_classes": [],
            "description": "",
            "_model_name": "HTMLModel",
            "placeholder": "​",
            "_view_module": "@jupyter-widgets/controls",
            "_model_module_version": "1.5.0",
            "value": " 4.79M/4.79M [04:39&lt;00:00, 18.0kB/s]",
            "_view_count": null,
            "_view_module_version": "1.5.0",
            "description_tooltip": null,
            "_model_module": "@jupyter-widgets/controls",
            "layout": "IPY_MODEL_2a77bdd21d044b579e9d8d16562615cc"
          }
        },
        "4a1efd251c2049f4a9e22464343263c9": {
          "model_module": "@jupyter-widgets/controls",
          "model_name": "ProgressStyleModel",
          "state": {
            "_view_name": "StyleView",
            "_model_name": "ProgressStyleModel",
            "description_width": "initial",
            "_view_module": "@jupyter-widgets/base",
            "_model_module_version": "1.5.0",
            "_view_count": null,
            "_view_module_version": "1.2.0",
            "bar_color": null,
            "_model_module": "@jupyter-widgets/controls"
          }
        },
        "7923b6aef9504d5dbed7e6a9474a4f8e": {
          "model_module": "@jupyter-widgets/base",
          "model_name": "LayoutModel",
          "state": {
            "_view_name": "LayoutView",
            "grid_template_rows": null,
            "right": null,
            "justify_content": null,
            "_view_module": "@jupyter-widgets/base",
            "overflow": null,
            "_model_module_version": "1.2.0",
            "_view_count": null,
            "flex_flow": null,
            "width": null,
            "min_width": null,
            "border": null,
            "align_items": null,
            "bottom": null,
            "_model_module": "@jupyter-widgets/base",
            "top": null,
            "grid_column": null,
            "overflow_y": null,
            "overflow_x": null,
            "grid_auto_flow": null,
            "grid_area": null,
            "grid_template_columns": null,
            "flex": null,
            "_model_name": "LayoutModel",
            "justify_items": null,
            "grid_row": null,
            "max_height": null,
            "align_content": null,
            "visibility": null,
            "align_self": null,
            "height": null,
            "min_height": null,
            "padding": null,
            "grid_auto_rows": null,
            "grid_gap": null,
            "max_width": null,
            "order": null,
            "_view_module_version": "1.2.0",
            "grid_template_areas": null,
            "object_position": null,
            "object_fit": null,
            "grid_auto_columns": null,
            "margin": null,
            "display": null,
            "left": null
          }
        },
        "2d459c300214404686459a6429488567": {
          "model_module": "@jupyter-widgets/controls",
          "model_name": "DescriptionStyleModel",
          "state": {
            "_view_name": "StyleView",
            "_model_name": "DescriptionStyleModel",
            "description_width": "",
            "_view_module": "@jupyter-widgets/base",
            "_model_module_version": "1.5.0",
            "_view_count": null,
            "_view_module_version": "1.2.0",
            "_model_module": "@jupyter-widgets/controls"
          }
        },
        "2a77bdd21d044b579e9d8d16562615cc": {
          "model_module": "@jupyter-widgets/base",
          "model_name": "LayoutModel",
          "state": {
            "_view_name": "LayoutView",
            "grid_template_rows": null,
            "right": null,
            "justify_content": null,
            "_view_module": "@jupyter-widgets/base",
            "overflow": null,
            "_model_module_version": "1.2.0",
            "_view_count": null,
            "flex_flow": null,
            "width": null,
            "min_width": null,
            "border": null,
            "align_items": null,
            "bottom": null,
            "_model_module": "@jupyter-widgets/base",
            "top": null,
            "grid_column": null,
            "overflow_y": null,
            "overflow_x": null,
            "grid_auto_flow": null,
            "grid_area": null,
            "grid_template_columns": null,
            "flex": null,
            "_model_name": "LayoutModel",
            "justify_items": null,
            "grid_row": null,
            "max_height": null,
            "align_content": null,
            "visibility": null,
            "align_self": null,
            "height": null,
            "min_height": null,
            "padding": null,
            "grid_auto_rows": null,
            "grid_gap": null,
            "max_width": null,
            "order": null,
            "_view_module_version": "1.2.0",
            "grid_template_areas": null,
            "object_position": null,
            "object_fit": null,
            "grid_auto_columns": null,
            "margin": null,
            "display": null,
            "left": null
          }
        },
        "a6e3b12421bc4293bad0effda7e12e79": {
          "model_module": "@jupyter-widgets/controls",
          "model_name": "HBoxModel",
          "state": {
            "_view_name": "HBoxView",
            "_dom_classes": [],
            "_model_name": "HBoxModel",
            "_view_module": "@jupyter-widgets/controls",
            "_model_module_version": "1.5.0",
            "_view_count": null,
            "_view_module_version": "1.5.0",
            "box_style": "",
            "layout": "IPY_MODEL_30e68e26e4264f64bd7d0aa59c8b37be",
            "_model_module": "@jupyter-widgets/controls",
            "children": [
              "IPY_MODEL_067bce07d5494869a6e0f2e2b2edf158",
              "IPY_MODEL_ac081b90b04b4823907e9b7ef9d44769"
            ]
          }
        },
        "30e68e26e4264f64bd7d0aa59c8b37be": {
          "model_module": "@jupyter-widgets/base",
          "model_name": "LayoutModel",
          "state": {
            "_view_name": "LayoutView",
            "grid_template_rows": null,
            "right": null,
            "justify_content": null,
            "_view_module": "@jupyter-widgets/base",
            "overflow": null,
            "_model_module_version": "1.2.0",
            "_view_count": null,
            "flex_flow": null,
            "width": null,
            "min_width": null,
            "border": null,
            "align_items": null,
            "bottom": null,
            "_model_module": "@jupyter-widgets/base",
            "top": null,
            "grid_column": null,
            "overflow_y": null,
            "overflow_x": null,
            "grid_auto_flow": null,
            "grid_area": null,
            "grid_template_columns": null,
            "flex": null,
            "_model_name": "LayoutModel",
            "justify_items": null,
            "grid_row": null,
            "max_height": null,
            "align_content": null,
            "visibility": null,
            "align_self": null,
            "height": null,
            "min_height": null,
            "padding": null,
            "grid_auto_rows": null,
            "grid_gap": null,
            "max_width": null,
            "order": null,
            "_view_module_version": "1.2.0",
            "grid_template_areas": null,
            "object_position": null,
            "object_fit": null,
            "grid_auto_columns": null,
            "margin": null,
            "display": null,
            "left": null
          }
        },
        "067bce07d5494869a6e0f2e2b2edf158": {
          "model_module": "@jupyter-widgets/controls",
          "model_name": "FloatProgressModel",
          "state": {
            "_view_name": "ProgressView",
            "style": "IPY_MODEL_df2381128b064fd1aabc88c0ec7fdba9",
            "_dom_classes": [],
            "description": "100%",
            "_model_name": "FloatProgressModel",
            "bar_style": "success",
            "max": 2,
            "_view_module": "@jupyter-widgets/controls",
            "_model_module_version": "1.5.0",
            "value": 2,
            "_view_count": null,
            "_view_module_version": "1.5.0",
            "orientation": "horizontal",
            "min": 0,
            "description_tooltip": null,
            "_model_module": "@jupyter-widgets/controls",
            "layout": "IPY_MODEL_cf5cf39c6fd24ca293e65d67379e4071"
          }
        },
        "ac081b90b04b4823907e9b7ef9d44769": {
          "model_module": "@jupyter-widgets/controls",
          "model_name": "HTMLModel",
          "state": {
            "_view_name": "HTMLView",
            "style": "IPY_MODEL_7884b9f196d9425db7103e92965fd715",
            "_dom_classes": [],
            "description": "",
            "_model_name": "HTMLModel",
            "placeholder": "​",
            "_view_module": "@jupyter-widgets/controls",
            "_model_module_version": "1.5.0",
            "value": " 2/2 [04:27&lt;00:00, 133.75s/it]",
            "_view_count": null,
            "_view_module_version": "1.5.0",
            "description_tooltip": null,
            "_model_module": "@jupyter-widgets/controls",
            "layout": "IPY_MODEL_a6201fc153034e248d4f89deedb8951f"
          }
        },
        "df2381128b064fd1aabc88c0ec7fdba9": {
          "model_module": "@jupyter-widgets/controls",
          "model_name": "ProgressStyleModel",
          "state": {
            "_view_name": "StyleView",
            "_model_name": "ProgressStyleModel",
            "description_width": "initial",
            "_view_module": "@jupyter-widgets/base",
            "_model_module_version": "1.5.0",
            "_view_count": null,
            "_view_module_version": "1.2.0",
            "bar_color": null,
            "_model_module": "@jupyter-widgets/controls"
          }
        },
        "cf5cf39c6fd24ca293e65d67379e4071": {
          "model_module": "@jupyter-widgets/base",
          "model_name": "LayoutModel",
          "state": {
            "_view_name": "LayoutView",
            "grid_template_rows": null,
            "right": null,
            "justify_content": null,
            "_view_module": "@jupyter-widgets/base",
            "overflow": null,
            "_model_module_version": "1.2.0",
            "_view_count": null,
            "flex_flow": null,
            "width": null,
            "min_width": null,
            "border": null,
            "align_items": null,
            "bottom": null,
            "_model_module": "@jupyter-widgets/base",
            "top": null,
            "grid_column": null,
            "overflow_y": null,
            "overflow_x": null,
            "grid_auto_flow": null,
            "grid_area": null,
            "grid_template_columns": null,
            "flex": null,
            "_model_name": "LayoutModel",
            "justify_items": null,
            "grid_row": null,
            "max_height": null,
            "align_content": null,
            "visibility": null,
            "align_self": null,
            "height": null,
            "min_height": null,
            "padding": null,
            "grid_auto_rows": null,
            "grid_gap": null,
            "max_width": null,
            "order": null,
            "_view_module_version": "1.2.0",
            "grid_template_areas": null,
            "object_position": null,
            "object_fit": null,
            "grid_auto_columns": null,
            "margin": null,
            "display": null,
            "left": null
          }
        },
        "7884b9f196d9425db7103e92965fd715": {
          "model_module": "@jupyter-widgets/controls",
          "model_name": "DescriptionStyleModel",
          "state": {
            "_view_name": "StyleView",
            "_model_name": "DescriptionStyleModel",
            "description_width": "",
            "_view_module": "@jupyter-widgets/base",
            "_model_module_version": "1.5.0",
            "_view_count": null,
            "_view_module_version": "1.2.0",
            "_model_module": "@jupyter-widgets/controls"
          }
        },
        "a6201fc153034e248d4f89deedb8951f": {
          "model_module": "@jupyter-widgets/base",
          "model_name": "LayoutModel",
          "state": {
            "_view_name": "LayoutView",
            "grid_template_rows": null,
            "right": null,
            "justify_content": null,
            "_view_module": "@jupyter-widgets/base",
            "overflow": null,
            "_model_module_version": "1.2.0",
            "_view_count": null,
            "flex_flow": null,
            "width": null,
            "min_width": null,
            "border": null,
            "align_items": null,
            "bottom": null,
            "_model_module": "@jupyter-widgets/base",
            "top": null,
            "grid_column": null,
            "overflow_y": null,
            "overflow_x": null,
            "grid_auto_flow": null,
            "grid_area": null,
            "grid_template_columns": null,
            "flex": null,
            "_model_name": "LayoutModel",
            "justify_items": null,
            "grid_row": null,
            "max_height": null,
            "align_content": null,
            "visibility": null,
            "align_self": null,
            "height": null,
            "min_height": null,
            "padding": null,
            "grid_auto_rows": null,
            "grid_gap": null,
            "max_width": null,
            "order": null,
            "_view_module_version": "1.2.0",
            "grid_template_areas": null,
            "object_position": null,
            "object_fit": null,
            "grid_auto_columns": null,
            "margin": null,
            "display": null,
            "left": null
          }
        }
      }
    },
    "accelerator": "GPU"
  },
  "cells": [
    {
      "cell_type": "markdown",
      "metadata": {
        "id": "view-in-github",
        "colab_type": "text"
      },
      "source": [
        "<a href=\"https://colab.research.google.com/github/bgohrani/Convolutional_Neural_Networks/blob/main/3.SqueezeNet.ipynb\" target=\"_parent\"><img src=\"https://colab.research.google.com/assets/colab-badge.svg\" alt=\"Open In Colab\"/></a>"
      ]
    },
    {
      "cell_type": "code",
      "metadata": {
        "id": "RiVy3I_cqfTb"
      },
      "source": [
        "import numpy as np\n",
        "import pandas as pd\n",
        "import seaborn as sns\n",
        "import matplotlib.pyplot as plt\n",
        "from tqdm import tqdm_notebook\n",
        "from sklearn.preprocessing import OneHotEncoder\n",
        "from sklearn.model_selection import train_test_split\n",
        "from sklearn.metrics import accuracy_score , mean_squared_error\n",
        "import matplotlib.colors\n",
        "import math\n",
        "from sklearn.datasets import make_blobs\n",
        "from sklearn.compose import ColumnTransformer\n",
        "import torch\n",
        "import torch.nn.functional as F\n",
        "import torch.nn as nn\n",
        "from torch import optim\n",
        "import time\n",
        "sns.set()\n",
        "import torchvision.models as models\n",
        "import copy\n",
        "import torchvision\n",
        "from torchvision.transforms import transforms\n",
        "\n",
        "#importing essential libraries"
      ],
      "execution_count": null,
      "outputs": []
    },
    {
      "cell_type": "code",
      "metadata": {
        "id": "UHj3lQVS6yqx"
      },
      "source": [
        "classes = ['airplane','automobile','bird','cat','deer','dog','frog','horse','ship',\t'truck']\t\t\n",
        "\n",
        "#Writing down the classes on the CIFAR-10 dataset"
      ],
      "execution_count": null,
      "outputs": []
    },
    {
      "cell_type": "code",
      "metadata": {
        "id": "YzvD8WOGqqWX"
      },
      "source": [
        "def evaluation(dataloader, network):\n",
        "  accuracy_count = 0\n",
        "  total = 0\n",
        "  for data in dataloader:\n",
        "    input,labels = data\n",
        "    input, labels = input.to(device), labels.to(device)\n",
        "    output = network(input)\n",
        "    total += labels.size(0)\n",
        "    max_values1,max_classes1 = torch.max(output, axis=1)\n",
        "    accuracy_count += (labels == max_classes1).sum().item()\n",
        "\n",
        "  computed_accuracy = (accuracy_count/total)*100\n",
        "  return computed_accuracy\n",
        "\n",
        "#Here is our evaluation function\n",
        "#We pass it any data (train/test loader and the network)\n",
        "#It iterates over that, takes each batch with its inputs and labels\n",
        "#Inputs are passed to the network, output is generated and compared to labels and accuracy count is maintained\n",
        "#Total accuaracy_count is divided by total no of labels to give the answer in percentage\n",
        "#Care is taken to move inputs and labels to device"
      ],
      "execution_count": null,
      "outputs": []
    },
    {
      "cell_type": "code",
      "metadata": {
        "id": "GlN2AVMl8Eel"
      },
      "source": [
        "device = torch.device('cuda')\n",
        "\n",
        "#Enabling GPU support"
      ],
      "execution_count": null,
      "outputs": []
    },
    {
      "cell_type": "code",
      "metadata": {
        "id": "SMqs6y9OqxaR"
      },
      "source": [
        "def visualize_batch(dataloader,network,classes, predicted=True):\n",
        "  dataiter = iter(dataloader)\n",
        "  images,labels = dataiter.next()\n",
        "  images,labels = images.to(device), labels.to(device)\n",
        "  images = images/2 + 0.5\n",
        "  if predicted == True:\n",
        "    output = network(images)\n",
        "    _,pred_classes = torch.max(output, axis=1)\n",
        "  grid = torchvision.utils.make_grid(images)\n",
        "\n",
        "  plt.imshow(np.transpose(grid.cpu().numpy(),(1,2,0)))\n",
        "  plt.show()\n",
        "  if predicted == True:\n",
        "    print (\" \".join([classes[pred_classes[j]] for j in range(16)]))\n",
        "  else:\n",
        "    print (\" \".join([classes[labels[j]] for j in range(16)]))\n",
        "\n",
        "#We want to use the network we have to predict on the test data, so we'll write function which returns the names of the objects\n",
        "#We take a single batch of 16 images, pass them through the network at once, and also put them in a grid to visualize.\n",
        "#We display the grid and if predicted is passed as true then print out the classes as given by the network\n",
        "#If predicted is given as false, we will print out the ground truths or the true values as given in the data\n"
      ],
      "execution_count": null,
      "outputs": []
    },
    {
      "cell_type": "code",
      "metadata": {
        "id": "iuAYzHV5rFaU"
      },
      "source": [
        "train_transform = torchvision.transforms.Compose([\n",
        "  transforms.RandomResizedCrop(224),\n",
        "  transforms.ToTensor(),\n",
        "  transforms.Normalize((0.5,0.5,0.5),(0.5,0.5,0.5))\n",
        "])\n",
        "\n",
        "test_transform = torchvision.transforms.Compose([\n",
        "  transforms.RandomResizedCrop(224),\n",
        "  transforms.ToTensor(),\n",
        "  transforms.Normalize((0.5,0.5,0.5),(0.5,0.5,0.5))\n",
        "])\n",
        "\n",
        "#Code for applying required transformations to our images"
      ],
      "execution_count": null,
      "outputs": []
    },
    {
      "cell_type": "code",
      "metadata": {
        "colab": {
          "base_uri": "https://localhost:8080/",
          "height": 116,
          "referenced_widgets": [
            "4009550fac8d4cafbd6acd64cd008897",
            "074cb8d2040d4cae85986311472214f2",
            "cbe79b50ae83421cacce6ccef3012306",
            "fb60e92b569648be8a501d849add039c",
            "b482f8432a134a189f0fa06bd63457f7",
            "eabec07ee4354a87b1daf0cb713fe764",
            "b5e41f789c334a7bab16802413470aa5",
            "0481e83aea0340349d0f498287055666"
          ]
        },
        "id": "vf-laasbrHR-",
        "outputId": "5bbd2aea-90fe-42b5-cf04-72a434d8a6c7"
      },
      "source": [
        "trainset = torchvision.datasets.CIFAR10(root='./data', train=True,download=True,transform=train_transform)\n",
        "testset = torchvision.datasets.CIFAR10(root='./data', train=False,download=True,transform=test_transform)\n",
        "\n",
        "#Loading CIFAR-10 data and applying transformations"
      ],
      "execution_count": null,
      "outputs": [
        {
          "output_type": "stream",
          "text": [
            "Downloading https://www.cs.toronto.edu/~kriz/cifar-10-python.tar.gz to ./data/cifar-10-python.tar.gz\n"
          ],
          "name": "stdout"
        },
        {
          "output_type": "display_data",
          "data": {
            "application/vnd.jupyter.widget-view+json": {
              "model_id": "4009550fac8d4cafbd6acd64cd008897",
              "version_minor": 0,
              "version_major": 2
            },
            "text/plain": [
              "HBox(children=(FloatProgress(value=0.0, max=170498071.0), HTML(value='')))"
            ]
          },
          "metadata": {
            "tags": []
          }
        },
        {
          "output_type": "stream",
          "text": [
            "\n",
            "Extracting ./data/cifar-10-python.tar.gz to ./data\n",
            "Files already downloaded and verified\n"
          ],
          "name": "stdout"
        }
      ]
    },
    {
      "cell_type": "code",
      "metadata": {
        "id": "iqEXXGjkrKvA"
      },
      "source": [
        "trainloader = torch.utils.data.DataLoader(trainset,batch_size=16,shuffle=True)\n",
        "testloader = torch.utils.data.DataLoader(testset,batch_size=16,shuffle=True)\n",
        "\n",
        "#Creating dataloaders to load images in batches and shuffle"
      ],
      "execution_count": null,
      "outputs": []
    },
    {
      "cell_type": "markdown",
      "metadata": {
        "id": "78xPumdaB3YU"
      },
      "source": [
        "**SqueezeNet** is a commonly used Deep Neural Network which finds applications in computer vision. It was developed jointly by DeepScale, UC Berkely and Stanford. The goal with Squeezenet was to build a smaller network which consumes less memory and can be easily transmitted. The predominant feature of this network is that it consists of _Fire Modules_, which help in squeezing parameters by applying 1x1 size kernels to integrate data over several channels and then expand it again by applying 1x1 filters to give out many channels. The network contains 18 layers with ~5M parameters."
      ]
    },
    {
      "cell_type": "code",
      "metadata": {
        "id": "9-Z1jvGiB40S",
        "colab": {
          "base_uri": "https://localhost:8080/",
          "height": 82,
          "referenced_widgets": [
            "c1790f042be6447184b4f2c6d2970b50",
            "9c15eebe9a314d95b4e9cdada87b636d",
            "7439b9586248453a8cc5d9cbfc1d72e7",
            "a8c5b55ee5ac4a859eaf45a1fc45f3a8",
            "4a1efd251c2049f4a9e22464343263c9",
            "7923b6aef9504d5dbed7e6a9474a4f8e",
            "2d459c300214404686459a6429488567",
            "2a77bdd21d044b579e9d8d16562615cc"
          ]
        },
        "outputId": "e58d7065-0b83-42af-d305-5c6e4d0b5d7b"
      },
      "source": [
        "squeezenet = torchvision.models.squeezenet1_0(pretrained=True)\n",
        "\n",
        "#Downloading pre-trained squeezenet model"
      ],
      "execution_count": null,
      "outputs": [
        {
          "output_type": "stream",
          "text": [
            "Downloading: \"https://download.pytorch.org/models/squeezenet1_0-a815701f.pth\" to /root/.cache/torch/hub/checkpoints/squeezenet1_0-a815701f.pth\n"
          ],
          "name": "stderr"
        },
        {
          "output_type": "display_data",
          "data": {
            "application/vnd.jupyter.widget-view+json": {
              "model_id": "c1790f042be6447184b4f2c6d2970b50",
              "version_minor": 0,
              "version_major": 2
            },
            "text/plain": [
              "HBox(children=(FloatProgress(value=0.0, max=5017600.0), HTML(value='')))"
            ]
          },
          "metadata": {
            "tags": []
          }
        },
        {
          "output_type": "stream",
          "text": [
            "\n"
          ],
          "name": "stdout"
        }
      ]
    },
    {
      "cell_type": "code",
      "metadata": {
        "colab": {
          "base_uri": "https://localhost:8080/"
        },
        "id": "HBXt36NVCy9Q",
        "outputId": "56d6bf65-4130-4c67-ca3d-629ed44b57e0"
      },
      "source": [
        "print(squeezenet)"
      ],
      "execution_count": null,
      "outputs": [
        {
          "output_type": "stream",
          "text": [
            "SqueezeNet(\n",
            "  (features): Sequential(\n",
            "    (0): Conv2d(3, 96, kernel_size=(7, 7), stride=(2, 2))\n",
            "    (1): ReLU(inplace=True)\n",
            "    (2): MaxPool2d(kernel_size=3, stride=2, padding=0, dilation=1, ceil_mode=True)\n",
            "    (3): Fire(\n",
            "      (squeeze): Conv2d(96, 16, kernel_size=(1, 1), stride=(1, 1))\n",
            "      (squeeze_activation): ReLU(inplace=True)\n",
            "      (expand1x1): Conv2d(16, 64, kernel_size=(1, 1), stride=(1, 1))\n",
            "      (expand1x1_activation): ReLU(inplace=True)\n",
            "      (expand3x3): Conv2d(16, 64, kernel_size=(3, 3), stride=(1, 1), padding=(1, 1))\n",
            "      (expand3x3_activation): ReLU(inplace=True)\n",
            "    )\n",
            "    (4): Fire(\n",
            "      (squeeze): Conv2d(128, 16, kernel_size=(1, 1), stride=(1, 1))\n",
            "      (squeeze_activation): ReLU(inplace=True)\n",
            "      (expand1x1): Conv2d(16, 64, kernel_size=(1, 1), stride=(1, 1))\n",
            "      (expand1x1_activation): ReLU(inplace=True)\n",
            "      (expand3x3): Conv2d(16, 64, kernel_size=(3, 3), stride=(1, 1), padding=(1, 1))\n",
            "      (expand3x3_activation): ReLU(inplace=True)\n",
            "    )\n",
            "    (5): Fire(\n",
            "      (squeeze): Conv2d(128, 32, kernel_size=(1, 1), stride=(1, 1))\n",
            "      (squeeze_activation): ReLU(inplace=True)\n",
            "      (expand1x1): Conv2d(32, 128, kernel_size=(1, 1), stride=(1, 1))\n",
            "      (expand1x1_activation): ReLU(inplace=True)\n",
            "      (expand3x3): Conv2d(32, 128, kernel_size=(3, 3), stride=(1, 1), padding=(1, 1))\n",
            "      (expand3x3_activation): ReLU(inplace=True)\n",
            "    )\n",
            "    (6): MaxPool2d(kernel_size=3, stride=2, padding=0, dilation=1, ceil_mode=True)\n",
            "    (7): Fire(\n",
            "      (squeeze): Conv2d(256, 32, kernel_size=(1, 1), stride=(1, 1))\n",
            "      (squeeze_activation): ReLU(inplace=True)\n",
            "      (expand1x1): Conv2d(32, 128, kernel_size=(1, 1), stride=(1, 1))\n",
            "      (expand1x1_activation): ReLU(inplace=True)\n",
            "      (expand3x3): Conv2d(32, 128, kernel_size=(3, 3), stride=(1, 1), padding=(1, 1))\n",
            "      (expand3x3_activation): ReLU(inplace=True)\n",
            "    )\n",
            "    (8): Fire(\n",
            "      (squeeze): Conv2d(256, 48, kernel_size=(1, 1), stride=(1, 1))\n",
            "      (squeeze_activation): ReLU(inplace=True)\n",
            "      (expand1x1): Conv2d(48, 192, kernel_size=(1, 1), stride=(1, 1))\n",
            "      (expand1x1_activation): ReLU(inplace=True)\n",
            "      (expand3x3): Conv2d(48, 192, kernel_size=(3, 3), stride=(1, 1), padding=(1, 1))\n",
            "      (expand3x3_activation): ReLU(inplace=True)\n",
            "    )\n",
            "    (9): Fire(\n",
            "      (squeeze): Conv2d(384, 48, kernel_size=(1, 1), stride=(1, 1))\n",
            "      (squeeze_activation): ReLU(inplace=True)\n",
            "      (expand1x1): Conv2d(48, 192, kernel_size=(1, 1), stride=(1, 1))\n",
            "      (expand1x1_activation): ReLU(inplace=True)\n",
            "      (expand3x3): Conv2d(48, 192, kernel_size=(3, 3), stride=(1, 1), padding=(1, 1))\n",
            "      (expand3x3_activation): ReLU(inplace=True)\n",
            "    )\n",
            "    (10): Fire(\n",
            "      (squeeze): Conv2d(384, 64, kernel_size=(1, 1), stride=(1, 1))\n",
            "      (squeeze_activation): ReLU(inplace=True)\n",
            "      (expand1x1): Conv2d(64, 256, kernel_size=(1, 1), stride=(1, 1))\n",
            "      (expand1x1_activation): ReLU(inplace=True)\n",
            "      (expand3x3): Conv2d(64, 256, kernel_size=(3, 3), stride=(1, 1), padding=(1, 1))\n",
            "      (expand3x3_activation): ReLU(inplace=True)\n",
            "    )\n",
            "    (11): MaxPool2d(kernel_size=3, stride=2, padding=0, dilation=1, ceil_mode=True)\n",
            "    (12): Fire(\n",
            "      (squeeze): Conv2d(512, 64, kernel_size=(1, 1), stride=(1, 1))\n",
            "      (squeeze_activation): ReLU(inplace=True)\n",
            "      (expand1x1): Conv2d(64, 256, kernel_size=(1, 1), stride=(1, 1))\n",
            "      (expand1x1_activation): ReLU(inplace=True)\n",
            "      (expand3x3): Conv2d(64, 256, kernel_size=(3, 3), stride=(1, 1), padding=(1, 1))\n",
            "      (expand3x3_activation): ReLU(inplace=True)\n",
            "    )\n",
            "  )\n",
            "  (classifier): Sequential(\n",
            "    (0): Dropout(p=0.5, inplace=False)\n",
            "    (1): Conv2d(512, 1000, kernel_size=(1, 1), stride=(1, 1))\n",
            "    (2): ReLU(inplace=True)\n",
            "    (3): AdaptiveAvgPool2d(output_size=(1, 1))\n",
            "  )\n",
            ")\n"
          ],
          "name": "stdout"
        }
      ]
    },
    {
      "cell_type": "code",
      "metadata": {
        "id": "3oXL3xX8IJxN"
      },
      "source": [
        "for param in squeezenet.parameters():\n",
        "  param.requires_grad = False\n",
        "\n",
        "input_features = squeezenet.classifier[1].in_channels\n",
        "squeezenet.classifier[1] = nn.Conv2d(input_features,10,kernel_size=(1,1),stride=(1,1))\n",
        "\n",
        "#Modifying the last layer as usual to predict over 10 classes\n",
        "#This is the only layer we will be training"
      ],
      "execution_count": null,
      "outputs": []
    },
    {
      "cell_type": "code",
      "metadata": {
        "id": "BFmccDhPH14D",
        "colab": {
          "base_uri": "https://localhost:8080/"
        },
        "outputId": "ca80ca42-fe34-44aa-9621-b96d7a6347cc"
      },
      "source": [
        "for param in squeezenet.parameters():\n",
        "  if param.requires_grad == True:\n",
        "    print(param.shape)"
      ],
      "execution_count": null,
      "outputs": [
        {
          "output_type": "stream",
          "text": [
            "torch.Size([10, 512, 1, 1])\n",
            "torch.Size([10])\n"
          ],
          "name": "stdout"
        }
      ]
    },
    {
      "cell_type": "code",
      "metadata": {
        "id": "X9RGBCQm6PWH"
      },
      "source": [
        "squeezenet = squeezenet.to(device)\n",
        "loss_func = nn.CrossEntropyLoss()\n",
        "opt = optim.Adam(squeezenet.parameters(),lr = 0.00001)\n",
        "\n",
        "#Moving our network to GPU, setting criterion and optimizer as usual"
      ],
      "execution_count": null,
      "outputs": []
    },
    {
      "cell_type": "code",
      "metadata": {
        "colab": {
          "base_uri": "https://localhost:8080/",
          "height": 1000,
          "referenced_widgets": [
            "a6e3b12421bc4293bad0effda7e12e79",
            "30e68e26e4264f64bd7d0aa59c8b37be",
            "067bce07d5494869a6e0f2e2b2edf158",
            "ac081b90b04b4823907e9b7ef9d44769",
            "df2381128b064fd1aabc88c0ec7fdba9",
            "cf5cf39c6fd24ca293e65d67379e4071",
            "7884b9f196d9425db7103e92965fd715",
            "a6201fc153034e248d4f89deedb8951f"
          ]
        },
        "id": "BZOGGa7A6qXW",
        "outputId": "0e109a17-8370-4861-fc71-befed8ffad67"
      },
      "source": [
        "epochs = 2\n",
        "loss = []\n",
        "min_loss = 1000\n",
        "for j in tqdm_notebook(range(epochs)): \n",
        "  k = 0\n",
        "  for i, data in enumerate(trainloader,0):\n",
        "    k += 1\n",
        "    inputs, labels = data\n",
        "    inputs, labels = inputs.to(device), labels.to(device)\n",
        "    opt.zero_grad()\n",
        "    output = squeezenet(inputs)\n",
        "    loss_train = loss_func(output,labels)\n",
        "    loss_train.backward()\n",
        "    opt.step()\n",
        "\n",
        "    if min_loss > loss_train.item():\n",
        "      min_loss = loss_train.item()\n",
        "      print('min loss is:', min_loss)\n",
        "      best_model = copy.deepcopy(squeezenet.state_dict())\n",
        "\n",
        "    del inputs, labels, output\n",
        "    torch.cuda.empty_cache()\n",
        "    if k%100 == 0:\n",
        "      print(k/100,' ',loss_train)\n",
        "      loss.append(loss_train.item())   \n",
        "\n",
        "    \n",
        "\n",
        "\n",
        "plt.figure(dpi =150)\n",
        "plt.plot(loss)\n",
        "plt.xlabel('Epochs')\n",
        "plt.ylabel('Cross Entropy Loss')\n",
        "plt.title('Loss during training')\n",
        "plt.show()\n",
        "\n",
        "#Training loop same as earlier "
      ],
      "execution_count": null,
      "outputs": [
        {
          "output_type": "stream",
          "text": [
            "/usr/local/lib/python3.7/dist-packages/ipykernel_launcher.py:4: TqdmDeprecationWarning: This function will be removed in tqdm==5.0.0\n",
            "Please use `tqdm.notebook.tqdm` instead of `tqdm.tqdm_notebook`\n",
            "  after removing the cwd from sys.path.\n"
          ],
          "name": "stderr"
        },
        {
          "output_type": "display_data",
          "data": {
            "application/vnd.jupyter.widget-view+json": {
              "model_id": "a6e3b12421bc4293bad0effda7e12e79",
              "version_minor": 0,
              "version_major": 2
            },
            "text/plain": [
              "HBox(children=(FloatProgress(value=0.0, max=2.0), HTML(value='')))"
            ]
          },
          "metadata": {
            "tags": []
          }
        },
        {
          "output_type": "stream",
          "text": [
            "min loss is: 2.671009063720703\n",
            "min loss is: 2.2163150310516357\n",
            "min loss is: 2.1542611122131348\n",
            "1.0   tensor(2.7720, device='cuda:0', grad_fn=<NllLossBackward>)\n",
            "min loss is: 1.964012622833252\n",
            "min loss is: 1.858239769935608\n",
            "2.0   tensor(2.1628, device='cuda:0', grad_fn=<NllLossBackward>)\n",
            "3.0   tensor(2.7062, device='cuda:0', grad_fn=<NllLossBackward>)\n",
            "4.0   tensor(2.3695, device='cuda:0', grad_fn=<NllLossBackward>)\n",
            "5.0   tensor(2.1735, device='cuda:0', grad_fn=<NllLossBackward>)\n",
            "6.0   tensor(1.9735, device='cuda:0', grad_fn=<NllLossBackward>)\n",
            "7.0   tensor(2.3523, device='cuda:0', grad_fn=<NllLossBackward>)\n",
            "8.0   tensor(1.9998, device='cuda:0', grad_fn=<NllLossBackward>)\n",
            "9.0   tensor(2.3764, device='cuda:0', grad_fn=<NllLossBackward>)\n",
            "10.0   tensor(2.4409, device='cuda:0', grad_fn=<NllLossBackward>)\n",
            "11.0   tensor(1.8833, device='cuda:0', grad_fn=<NllLossBackward>)\n",
            "12.0   tensor(2.1256, device='cuda:0', grad_fn=<NllLossBackward>)\n",
            "min loss is: 1.8412543535232544\n",
            "13.0   tensor(2.2361, device='cuda:0', grad_fn=<NllLossBackward>)\n",
            "min loss is: 1.8027997016906738\n",
            "14.0   tensor(2.0969, device='cuda:0', grad_fn=<NllLossBackward>)\n",
            "min loss is: 1.799965739250183\n",
            "15.0   tensor(2.1167, device='cuda:0', grad_fn=<NllLossBackward>)\n",
            "16.0   tensor(2.2120, device='cuda:0', grad_fn=<NllLossBackward>)\n",
            "17.0   tensor(2.1374, device='cuda:0', grad_fn=<NllLossBackward>)\n",
            "min loss is: 1.746647596359253\n",
            "18.0   tensor(2.1821, device='cuda:0', grad_fn=<NllLossBackward>)\n",
            "19.0   tensor(2.1911, device='cuda:0', grad_fn=<NllLossBackward>)\n",
            "20.0   tensor(2.0557, device='cuda:0', grad_fn=<NllLossBackward>)\n",
            "min loss is: 1.739474892616272\n",
            "min loss is: 1.680821418762207\n",
            "21.0   tensor(2.0450, device='cuda:0', grad_fn=<NllLossBackward>)\n",
            "22.0   tensor(1.9267, device='cuda:0', grad_fn=<NllLossBackward>)\n",
            "23.0   tensor(2.1740, device='cuda:0', grad_fn=<NllLossBackward>)\n",
            "24.0   tensor(2.2262, device='cuda:0', grad_fn=<NllLossBackward>)\n",
            "min loss is: 1.6758570671081543\n",
            "25.0   tensor(2.1308, device='cuda:0', grad_fn=<NllLossBackward>)\n",
            "26.0   tensor(2.0292, device='cuda:0', grad_fn=<NllLossBackward>)\n",
            "min loss is: 1.672324776649475\n",
            "27.0   tensor(1.9972, device='cuda:0', grad_fn=<NllLossBackward>)\n",
            "min loss is: 1.6693661212921143\n",
            "28.0   tensor(1.9992, device='cuda:0', grad_fn=<NllLossBackward>)\n",
            "29.0   tensor(1.8895, device='cuda:0', grad_fn=<NllLossBackward>)\n",
            "min loss is: 1.6086385250091553\n",
            "30.0   tensor(2.1393, device='cuda:0', grad_fn=<NllLossBackward>)\n",
            "min loss is: 1.5920963287353516\n",
            "31.0   tensor(2.0602, device='cuda:0', grad_fn=<NllLossBackward>)\n",
            "1.0   tensor(1.8454, device='cuda:0', grad_fn=<NllLossBackward>)\n",
            "2.0   tensor(1.9737, device='cuda:0', grad_fn=<NllLossBackward>)\n",
            "min loss is: 1.4974274635314941\n",
            "3.0   tensor(1.9638, device='cuda:0', grad_fn=<NllLossBackward>)\n",
            "4.0   tensor(1.9538, device='cuda:0', grad_fn=<NllLossBackward>)\n",
            "5.0   tensor(1.8239, device='cuda:0', grad_fn=<NllLossBackward>)\n",
            "6.0   tensor(1.8248, device='cuda:0', grad_fn=<NllLossBackward>)\n",
            "7.0   tensor(1.8835, device='cuda:0', grad_fn=<NllLossBackward>)\n",
            "8.0   tensor(1.7220, device='cuda:0', grad_fn=<NllLossBackward>)\n",
            "9.0   tensor(1.8518, device='cuda:0', grad_fn=<NllLossBackward>)\n",
            "10.0   tensor(1.8324, device='cuda:0', grad_fn=<NllLossBackward>)\n",
            "11.0   tensor(1.7058, device='cuda:0', grad_fn=<NllLossBackward>)\n",
            "min loss is: 1.3331964015960693\n",
            "12.0   tensor(1.9315, device='cuda:0', grad_fn=<NllLossBackward>)\n",
            "13.0   tensor(2.0053, device='cuda:0', grad_fn=<NllLossBackward>)\n",
            "14.0   tensor(1.9848, device='cuda:0', grad_fn=<NllLossBackward>)\n",
            "15.0   tensor(1.9258, device='cuda:0', grad_fn=<NllLossBackward>)\n",
            "16.0   tensor(1.8373, device='cuda:0', grad_fn=<NllLossBackward>)\n",
            "17.0   tensor(1.4565, device='cuda:0', grad_fn=<NllLossBackward>)\n",
            "18.0   tensor(1.7972, device='cuda:0', grad_fn=<NllLossBackward>)\n",
            "19.0   tensor(1.7444, device='cuda:0', grad_fn=<NllLossBackward>)\n",
            "20.0   tensor(2.0733, device='cuda:0', grad_fn=<NllLossBackward>)\n",
            "21.0   tensor(1.9326, device='cuda:0', grad_fn=<NllLossBackward>)\n",
            "22.0   tensor(1.7945, device='cuda:0', grad_fn=<NllLossBackward>)\n",
            "23.0   tensor(1.8334, device='cuda:0', grad_fn=<NllLossBackward>)\n",
            "24.0   tensor(1.6959, device='cuda:0', grad_fn=<NllLossBackward>)\n",
            "min loss is: 1.3180497884750366\n",
            "25.0   tensor(1.5037, device='cuda:0', grad_fn=<NllLossBackward>)\n",
            "26.0   tensor(1.9526, device='cuda:0', grad_fn=<NllLossBackward>)\n",
            "27.0   tensor(1.8709, device='cuda:0', grad_fn=<NllLossBackward>)\n",
            "min loss is: 1.3031387329101562\n",
            "28.0   tensor(1.8992, device='cuda:0', grad_fn=<NllLossBackward>)\n",
            "29.0   tensor(1.7288, device='cuda:0', grad_fn=<NllLossBackward>)\n",
            "30.0   tensor(1.9544, device='cuda:0', grad_fn=<NllLossBackward>)\n",
            "31.0   tensor(1.8142, device='cuda:0', grad_fn=<NllLossBackward>)\n",
            "\n"
          ],
          "name": "stdout"
        },
        {
          "output_type": "display_data",
          "data": {
            "image/png": "[encoded data removed]",
            "text/plain": [
              "<Figure size 900x600 with 1 Axes>"
            ]
          },
          "metadata": {
            "tags": [],
            "needs_background": "light"
          }
        }
      ]
    },
    {
      "cell_type": "code",
      "metadata": {
        "colab": {
          "base_uri": "https://localhost:8080/"
        },
        "id": "DF_N7cAe7X-o",
        "outputId": "2458dc6b-d2a9-43ce-ccc2-bf97698247bb"
      },
      "source": [
        "training_loss = evaluation(trainloader, squeezenet)\n",
        "test_loss = evaluation(testloader, squeezenet)\n",
        "\n",
        "print('Training accuracy is: ', training_loss)\n",
        "print('Test accuracy is: ', test_loss)"
      ],
      "execution_count": null,
      "outputs": [
        {
          "output_type": "stream",
          "text": [
            "Training accuracy is:  39.922000000000004\n",
            "Test accuracy is:  39.58\n"
          ],
          "name": "stdout"
        }
      ]
    }
  ]
}